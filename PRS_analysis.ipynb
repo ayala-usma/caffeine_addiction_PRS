{
 "cells": [
  {
   "cell_type": "markdown",
   "metadata": {},
   "source": [
    "# Performance analysis of PRS models for Caffeine Addiction\n",
    "----"
   ]
  },
  {
   "cell_type": "markdown",
   "metadata": {},
   "source": [
    "### Introduction\n",
    "Now that the engine has calculated the PRS score per individual for each model, we need to assess if such scores are good predictors for caffeine addiction. This Notebook contains the computational setup, the results, and the conclusions of the analysis."
   ]
  },
  {
   "cell_type": "code",
   "execution_count": 1,
   "metadata": {},
   "outputs": [],
   "source": [
    "## First, we need to install the dependencies for the analysis\n",
    "!pip install -qr requirements_notebook.txt"
   ]
  },
  {
   "cell_type": "code",
   "execution_count": 2,
   "metadata": {},
   "outputs": [],
   "source": [
    "## Importing the dependencies\n",
    "import numpy as np\n",
    "import pandas as pd\n",
    "import seaborn as sb\n",
    "import pingouin as pg\n",
    "import matplotlib.pyplot as plt\n",
    "from sklearn import metrics\n",
    "from sklearn.linear_model import LogisticRegression"
   ]
  },
  {
   "cell_type": "markdown",
   "metadata": {},
   "source": [
    "The results table is presented here. We can observe that the `caffeine_addiction` column is a binary variable, the `file_link` column contains the [openSNP](https://opensnp.org/) ID of the genotyped individual, and that there are two columns containing the PRS score calculated for each individual under the two different models provided."
   ]
  },
  {
   "cell_type": "code",
   "execution_count": 3,
   "metadata": {},
   "outputs": [
    {
     "data": {
      "text/html": [
       "<div>\n",
       "<style scoped>\n",
       "    .dataframe tbody tr th:only-of-type {\n",
       "        vertical-align: middle;\n",
       "    }\n",
       "\n",
       "    .dataframe tbody tr th {\n",
       "        vertical-align: top;\n",
       "    }\n",
       "\n",
       "    .dataframe thead th {\n",
       "        text-align: right;\n",
       "    }\n",
       "</style>\n",
       "<table border=\"1\" class=\"dataframe\">\n",
       "  <thead>\n",
       "    <tr style=\"text-align: right;\">\n",
       "      <th></th>\n",
       "      <th>caffeine_addiction</th>\n",
       "      <th>file_link</th>\n",
       "      <th>PRS_model_a</th>\n",
       "      <th>PRS_model_b</th>\n",
       "    </tr>\n",
       "  </thead>\n",
       "  <tbody>\n",
       "    <tr>\n",
       "      <th>0</th>\n",
       "      <td>1</td>\n",
       "      <td>11008.23andme.9131</td>\n",
       "      <td>-0.666347</td>\n",
       "      <td>-0.766291</td>\n",
       "    </tr>\n",
       "    <tr>\n",
       "      <th>1</th>\n",
       "      <td>0</td>\n",
       "      <td>10787.ancestry.8931</td>\n",
       "      <td>0.290398</td>\n",
       "      <td>0.273421</td>\n",
       "    </tr>\n",
       "    <tr>\n",
       "      <th>2</th>\n",
       "      <td>0</td>\n",
       "      <td>10469.23andme.8739</td>\n",
       "      <td>0.437082</td>\n",
       "      <td>-0.085104</td>\n",
       "    </tr>\n",
       "    <tr>\n",
       "      <th>3</th>\n",
       "      <td>1</td>\n",
       "      <td>10420.23andme.8678</td>\n",
       "      <td>0.026507</td>\n",
       "      <td>-0.265804</td>\n",
       "    </tr>\n",
       "    <tr>\n",
       "      <th>4</th>\n",
       "      <td>1</td>\n",
       "      <td>6192.23andme.4696</td>\n",
       "      <td>0.532341</td>\n",
       "      <td>0.513710</td>\n",
       "    </tr>\n",
       "    <tr>\n",
       "      <th>5</th>\n",
       "      <td>1</td>\n",
       "      <td>9974.ancestry.8238</td>\n",
       "      <td>0.128651</td>\n",
       "      <td>-0.175686</td>\n",
       "    </tr>\n",
       "    <tr>\n",
       "      <th>6</th>\n",
       "      <td>1</td>\n",
       "      <td>9869.23andme.8128</td>\n",
       "      <td>0.274223</td>\n",
       "      <td>0.112793</td>\n",
       "    </tr>\n",
       "    <tr>\n",
       "      <th>7</th>\n",
       "      <td>0</td>\n",
       "      <td>8977.23andme.7322</td>\n",
       "      <td>0.020126</td>\n",
       "      <td>-0.305000</td>\n",
       "    </tr>\n",
       "    <tr>\n",
       "      <th>8</th>\n",
       "      <td>0</td>\n",
       "      <td>1.23andme.9</td>\n",
       "      <td>-0.033030</td>\n",
       "      <td>-0.224030</td>\n",
       "    </tr>\n",
       "    <tr>\n",
       "      <th>9</th>\n",
       "      <td>1</td>\n",
       "      <td>8655.ancestry.7006</td>\n",
       "      <td>-0.465127</td>\n",
       "      <td>-0.425039</td>\n",
       "    </tr>\n",
       "    <tr>\n",
       "      <th>10</th>\n",
       "      <td>1</td>\n",
       "      <td>8546.ancestry.6906</td>\n",
       "      <td>-0.184142</td>\n",
       "      <td>-0.196617</td>\n",
       "    </tr>\n",
       "    <tr>\n",
       "      <th>11</th>\n",
       "      <td>0</td>\n",
       "      <td>8476.23andme.6841</td>\n",
       "      <td>-0.181664</td>\n",
       "      <td>-0.025539</td>\n",
       "    </tr>\n",
       "    <tr>\n",
       "      <th>12</th>\n",
       "      <td>0</td>\n",
       "      <td>8466.ancestry.6829</td>\n",
       "      <td>-0.201514</td>\n",
       "      <td>0.026780</td>\n",
       "    </tr>\n",
       "    <tr>\n",
       "      <th>13</th>\n",
       "      <td>1</td>\n",
       "      <td>7018.23andme.5429</td>\n",
       "      <td>0.163263</td>\n",
       "      <td>0.090628</td>\n",
       "    </tr>\n",
       "  </tbody>\n",
       "</table>\n",
       "</div>"
      ],
      "text/plain": [
       "    caffeine_addiction            file_link  PRS_model_a  PRS_model_b\n",
       "0                    1   11008.23andme.9131    -0.666347    -0.766291\n",
       "1                    0  10787.ancestry.8931     0.290398     0.273421\n",
       "2                    0   10469.23andme.8739     0.437082    -0.085104\n",
       "3                    1   10420.23andme.8678     0.026507    -0.265804\n",
       "4                    1    6192.23andme.4696     0.532341     0.513710\n",
       "5                    1   9974.ancestry.8238     0.128651    -0.175686\n",
       "6                    1    9869.23andme.8128     0.274223     0.112793\n",
       "7                    0    8977.23andme.7322     0.020126    -0.305000\n",
       "8                    0          1.23andme.9    -0.033030    -0.224030\n",
       "9                    1   8655.ancestry.7006    -0.465127    -0.425039\n",
       "10                   1   8546.ancestry.6906    -0.184142    -0.196617\n",
       "11                   0    8476.23andme.6841    -0.181664    -0.025539\n",
       "12                   0   8466.ancestry.6829    -0.201514     0.026780\n",
       "13                   1    7018.23andme.5429     0.163263     0.090628"
      ]
     },
     "execution_count": 3,
     "metadata": {},
     "output_type": "execute_result"
    }
   ],
   "source": [
    "## Reading the workflow results\n",
    "results = pd.read_csv('workflow_results/prs_analysis_data.csv')\n",
    "results"
   ]
  },
  {
   "cell_type": "markdown",
   "metadata": {},
   "source": [
    "----\n",
    "### Performance of the models\n",
    "The first step to evaluate the quality of the models is visualizing the distribution of PRSs for the two values of the `caffeine_addiction` variable under both models.\n"
   ]
  },
  {
   "cell_type": "code",
   "execution_count": 4,
   "metadata": {},
   "outputs": [
    {
     "data": {
      "text/plain": [
       "[Text(0.5, 0, 'Caffeine addiction (0 = No, 1 = Yes)')]"
      ]
     },
     "execution_count": 4,
     "metadata": {},
     "output_type": "execute_result"
    },
    {
     "data": {
      "image/png": "[encoded data removed]",
      "text/plain": [
       "<Figure size 792x648 with 4 Axes>"
      ]
     },
     "metadata": {
      "needs_background": "light"
     },
     "output_type": "display_data"
    }
   ],
   "source": [
    "## Figures comparing the results of both models\n",
    "fig, axs = plt.subplots(2, 2, figsize=(11,9))\n",
    "\n",
    "sb.kdeplot(data=results, x='PRS_model_a', hue='caffeine_addiction', fill=True, common_norm=False, palette='coolwarm', ax=axs[0,0])\n",
    "axs[0,0].set(xlabel=\"Polygenic Risk Score under Model A\")\n",
    "axs[0,0].set(ylabel=\"Density\")\n",
    "\n",
    "sb.kdeplot(data=results, x='PRS_model_b', hue='caffeine_addiction', fill=True, common_norm=False, palette='coolwarm', ax=axs[0,1])\n",
    "axs[0,1].set(xlabel=\"Polygenic Risk Score under Model B\")\n",
    "axs[0,1].set(ylabel=\"Density\")\n",
    "\n",
    "sb.boxplot(data=results, x='caffeine_addiction', y='PRS_model_a', palette='coolwarm', ax=axs[1,0])\n",
    "sb.stripplot(data=results, x='caffeine_addiction', y='PRS_model_a', color='.3', ax=axs[1,0])\n",
    "axs[1,0].set(ylabel=\"Polygenic Risk Score under Model A\")\n",
    "axs[1,0].set(xlabel=\"Caffeine addiction (0 = No, 1 = Yes)\")\n",
    "\n",
    "\n",
    "sb.boxplot(data=results, x='caffeine_addiction', y='PRS_model_b', palette='coolwarm', ax=axs[1,1])\n",
    "sb.stripplot(data=results, x='caffeine_addiction', y='PRS_model_b', color='.3', ax=axs[1,1])\n",
    "axs[1,1].set(ylabel=\"Polygenic Risk Score under Model B\")\n",
    "axs[1,1].set(xlabel=\"Caffeine addiction (0 = No, 1 = Yes)\")"
   ]
  },
  {
   "cell_type": "markdown",
   "metadata": {},
   "source": [
    "The upper row of this visualization panel is a quick way to assess if the PRS distributions differ in both conditions for each model. In this case we can observe significant overlap of the PRS distributions for people with and without caffeine addiction for Model A and Model B; particularly in the area of greater density.\n",
    "\n",
    "The lower row shows the specific PRS values for both models also compared by the `caffeine_addiction` value. Observing the difference in range of the PRS values, one could suggest that the extremes of the PRS distributions for no caffeine addiction in both models could be used as classification criterion. However, this would end in a very high rate of false negatives thus sacrificing the sensitivity of the model.\n",
    "\n",
    "This is confirmed with the evidence below"
   ]
  },
  {
   "cell_type": "code",
   "execution_count": 5,
   "metadata": {},
   "outputs": [
    {
     "name": "stdout",
     "output_type": "stream",
     "text": [
      "               Source        SS  DF        MS        F    p-unc       np2\n",
      "0  caffeine_addiction  0.021431   1  0.021431  0.18055  0.67842  0.014823\n",
      "1              Within  1.424394  12  0.118700      NaN      NaN       NaN\n",
      "               Source        SS  DF        MS         F     p-unc       np2\n",
      "0  caffeine_addiction  0.023313   1  0.023313  0.224594  0.644067  0.018372\n",
      "1              Within  1.245595  12  0.103800       NaN       NaN       NaN\n"
     ]
    }
   ],
   "source": [
    "## ANOVA comparison among both models \n",
    "aov_modA = pg.anova(data=results, dv='PRS_model_a', between='caffeine_addiction', detailed=True)\n",
    "aov_modB = pg.anova(data=results, dv='PRS_model_b', between='caffeine_addiction', detailed=True)\n",
    "print(aov_modA)\n",
    "print(aov_modB)"
   ]
  },
  {
   "cell_type": "markdown",
   "metadata": {},
   "source": [
    "Where upon statistical comparison of means between both conditions of each model, we can observe that the *p-values* are much greater than $\\alpha$ = 0.025 (as per Bonferroni correction). Thus, null hypotheses of equal means between conditions cannot be rejected. In lay terms, this means that there are no statistical differences in the PRS values between people with and without caffeine addiction.\n",
    "\n",
    "Logistic Regression was used as a final strategy to evaluate the accuracy of PRS models in a classification task."
   ]
  },
  {
   "cell_type": "code",
   "execution_count": 6,
   "metadata": {},
   "outputs": [
    {
     "name": "stdout",
     "output_type": "stream",
     "text": [
      "The Model A shows an accuracy of 0.5714285714285714, and an AUC of 0.5 when compared to its own dataset.\n",
      "The Model B shows an accuracy of 0.5714285714285714, and an AUC of 0.5 when compared to its own dataset.\n"
     ]
    }
   ],
   "source": [
    "## Examining the accuracy and the AUC of a Logistic Regression classifier\n",
    "logisticRegr = LogisticRegression()\n",
    "logisticRegr.fit(results['PRS_model_a'].to_numpy().reshape(-1,1), results['caffeine_addiction'].to_numpy())\n",
    "out_predict = logisticRegr.predict(results['PRS_model_a'].to_numpy().reshape(-1,1))\n",
    "out_predict_proba = logisticRegr.predict_proba(results['PRS_model_a'].to_numpy().reshape(-1,1))[::,1]\n",
    "accuracy_model_a = metrics.accuracy_score(results['caffeine_addiction'].to_numpy(), out_predict)\n",
    "auc_model_a = metrics.roc_auc_score(results['caffeine_addiction'].to_numpy(), out_predict)\n",
    "\n",
    "logisticRegr = LogisticRegression()\n",
    "logisticRegr.fit(results['PRS_model_b'].to_numpy().reshape(-1,1), results['caffeine_addiction'].to_numpy())\n",
    "out_predict = logisticRegr.predict(results['PRS_model_b'].to_numpy().reshape(-1,1))\n",
    "out_predict_proba = logisticRegr.predict_proba(results['PRS_model_b'].to_numpy().reshape(-1,1))[::,1]\n",
    "accuracy_model_b = metrics.accuracy_score(results['caffeine_addiction'].to_numpy(), out_predict)\n",
    "auc_model_b = metrics.roc_auc_score(results['caffeine_addiction'].to_numpy(), out_predict)\n",
    "\n",
    "print(\"The Model A shows an accuracy of {accuracy}, and an AUC of {auc} when compared to its own dataset.\".format(accuracy=accuracy_model_a, auc=auc_model_a))\n",
    "print(\"The Model B shows an accuracy of {accuracy}, and an AUC of {auc} when compared to its own dataset.\".format(accuracy=accuracy_model_b, auc=auc_model_b))\n"
   ]
  },
  {
   "cell_type": "markdown",
   "metadata": {},
   "source": [
    "Here, in an exercise of classification with we observe that the accuracy and the AUC values are very close or equal to 0.5 in both models. This implies that *classifying individuals as having caffeine addiction or not with these PRS scores has an accuracy equivalent to a random guess.*"
   ]
  },
  {
   "cell_type": "markdown",
   "metadata": {},
   "source": [
    "----\n",
    "### Conclusion\n",
    "**The models provided are not suitable for a clinical reporting of risk of developing caffeine addiction in patients. Future avenues for this research could be investigating a different set of variants for the condition and using more individuals for the sampling. An additional idea would be using a PRS model that is not a linear additive model, but instead a much more sophisticated strategy.**"
   ]
  }
 ],
 "metadata": {
  "kernelspec": {
   "display_name": "Python 3.9.12 ('base')",
   "language": "python",
   "name": "python3"
  },
  "language_info": {
   "codemirror_mode": {
    "name": "ipython",
    "version": 3
   },
   "file_extension": ".py",
   "mimetype": "text/x-python",
   "name": "python",
   "nbconvert_exporter": "python",
   "pygments_lexer": "ipython3",
   "version": "3.9.12"
  },
  "orig_nbformat": 4,
  "vscode": {
   "interpreter": {
    "hash": "40d3a090f54c6569ab1632332b64b2c03c39dcf918b08424e98f38b5ae0af88f"
   }
  }
 },
 "nbformat": 4,
 "nbformat_minor": 2
}
