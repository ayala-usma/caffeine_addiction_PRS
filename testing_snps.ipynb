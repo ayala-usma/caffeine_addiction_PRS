{
 "cells": [
  {
   "cell_type": "code",
   "execution_count": 27,
   "metadata": {},
   "outputs": [],
   "source": [
    "import pandas as pd\n",
    "\n",
    "OPENSNP_API = 'https://opensnp.org/data/{user_id}'\n",
    "users = pd.read_csv('/Users/david/caffeine_addiction_PRS/datasets/user_ids.tsv', sep='\\t', comment='#')"
   ]
  },
  {
   "cell_type": "code",
   "execution_count": 28,
   "metadata": {},
   "outputs": [
    {
     "data": {
      "text/html": [
       "<div>\n",
       "<style scoped>\n",
       "    .dataframe tbody tr th:only-of-type {\n",
       "        vertical-align: middle;\n",
       "    }\n",
       "\n",
       "    .dataframe tbody tr th {\n",
       "        vertical-align: top;\n",
       "    }\n",
       "\n",
       "    .dataframe thead th {\n",
       "        text-align: right;\n",
       "    }\n",
       "</style>\n",
       "<table border=\"1\" class=\"dataframe\">\n",
       "  <thead>\n",
       "    <tr style=\"text-align: right;\">\n",
       "      <th></th>\n",
       "      <th>caffeine_addiction</th>\n",
       "      <th>file_link</th>\n",
       "    </tr>\n",
       "  </thead>\n",
       "  <tbody>\n",
       "    <tr>\n",
       "      <th>0</th>\n",
       "      <td>1</td>\n",
       "      <td>11008.23andme.9131</td>\n",
       "    </tr>\n",
       "    <tr>\n",
       "      <th>1</th>\n",
       "      <td>0</td>\n",
       "      <td>10787.ancestry.8931</td>\n",
       "    </tr>\n",
       "    <tr>\n",
       "      <th>2</th>\n",
       "      <td>0</td>\n",
       "      <td>10469.23andme.8739</td>\n",
       "    </tr>\n",
       "    <tr>\n",
       "      <th>3</th>\n",
       "      <td>1</td>\n",
       "      <td>10420.23andme.8678</td>\n",
       "    </tr>\n",
       "    <tr>\n",
       "      <th>4</th>\n",
       "      <td>1</td>\n",
       "      <td>6192.23andme.4696</td>\n",
       "    </tr>\n",
       "    <tr>\n",
       "      <th>5</th>\n",
       "      <td>1</td>\n",
       "      <td>9974.ancestry.8238</td>\n",
       "    </tr>\n",
       "    <tr>\n",
       "      <th>6</th>\n",
       "      <td>1</td>\n",
       "      <td>9869.23andme.8128</td>\n",
       "    </tr>\n",
       "    <tr>\n",
       "      <th>7</th>\n",
       "      <td>0</td>\n",
       "      <td>8977.23andme.7322</td>\n",
       "    </tr>\n",
       "    <tr>\n",
       "      <th>8</th>\n",
       "      <td>0</td>\n",
       "      <td>1.23andme.9</td>\n",
       "    </tr>\n",
       "    <tr>\n",
       "      <th>9</th>\n",
       "      <td>1</td>\n",
       "      <td>8655.ancestry.7006</td>\n",
       "    </tr>\n",
       "    <tr>\n",
       "      <th>10</th>\n",
       "      <td>1</td>\n",
       "      <td>8546.ancestry.6906</td>\n",
       "    </tr>\n",
       "    <tr>\n",
       "      <th>11</th>\n",
       "      <td>0</td>\n",
       "      <td>8476.23andme.6841</td>\n",
       "    </tr>\n",
       "    <tr>\n",
       "      <th>12</th>\n",
       "      <td>0</td>\n",
       "      <td>8466.ancestry.6829</td>\n",
       "    </tr>\n",
       "    <tr>\n",
       "      <th>13</th>\n",
       "      <td>1</td>\n",
       "      <td>7018.23andme.5429</td>\n",
       "    </tr>\n",
       "  </tbody>\n",
       "</table>\n",
       "</div>"
      ],
      "text/plain": [
       "    caffeine_addiction            file_link\n",
       "0                    1   11008.23andme.9131\n",
       "1                    0  10787.ancestry.8931\n",
       "2                    0   10469.23andme.8739\n",
       "3                    1   10420.23andme.8678\n",
       "4                    1    6192.23andme.4696\n",
       "5                    1   9974.ancestry.8238\n",
       "6                    1    9869.23andme.8128\n",
       "7                    0    8977.23andme.7322\n",
       "8                    0          1.23andme.9\n",
       "9                    1   8655.ancestry.7006\n",
       "10                   1   8546.ancestry.6906\n",
       "11                   0    8476.23andme.6841\n",
       "12                   0   8466.ancestry.6829\n",
       "13                   1    7018.23andme.5429"
      ]
     },
     "execution_count": 28,
     "metadata": {},
     "output_type": "execute_result"
    }
   ],
   "source": [
    "users"
   ]
  },
  {
   "cell_type": "code",
   "execution_count": 29,
   "metadata": {},
   "outputs": [
    {
     "name": "stdout",
     "output_type": "stream",
     "text": [
      "User: 11008.23andme.9131\n"
     ]
    },
    {
     "name": "stderr",
     "output_type": "stream",
     "text": [
      "/var/folders/px/dh9c3vv16s1fhpfkq3b79ws80000gn/T/ipykernel_70702/2052517618.py:5: DtypeWarning: Columns (1) have mixed types. Specify dtype option on import or set low_memory=False.\n",
      "  table = pd.read_csv(OPENSNP_API.format(user_id=user), comment='#', sep='\\t', header=None)\n"
     ]
    },
    {
     "name": "stdout",
     "output_type": "stream",
     "text": [
      "             0  1       2   3\n",
      "0  rs548049170  1   69869  TT\n",
      "1    rs9283150  1  565508  AA\n",
      "2  rs116587930  1  727841  GG\n",
      "3    rs3131972  1  752721  AG\n",
      "4   rs12184325  1  754105  CC\n",
      "User: 10787.ancestry.8931\n"
     ]
    },
    {
     "name": "stderr",
     "output_type": "stream",
     "text": [
      "/var/folders/px/dh9c3vv16s1fhpfkq3b79ws80000gn/T/ipykernel_70702/2052517618.py:5: DtypeWarning: Columns (1,2) have mixed types. Specify dtype option on import or set low_memory=False.\n",
      "  table = pd.read_csv(OPENSNP_API.format(user_id=user), comment='#', sep='\\t', header=None)\n"
     ]
    },
    {
     "name": "stdout",
     "output_type": "stream",
     "text": [
      "             0           1         2        3        4\n",
      "0         rsid  chromosome  position  allele1  allele2\n",
      "1  rs369202065           1    569388        G        G\n",
      "2  rs199476136           1    569400        T        T\n",
      "3    rs3131972           1    752721        G        G\n",
      "4  rs114525117           1    759036        G        G\n",
      "User: 10469.23andme.8739\n"
     ]
    },
    {
     "name": "stderr",
     "output_type": "stream",
     "text": [
      "/var/folders/px/dh9c3vv16s1fhpfkq3b79ws80000gn/T/ipykernel_70702/2052517618.py:5: DtypeWarning: Columns (1) have mixed types. Specify dtype option on import or set low_memory=False.\n",
      "  table = pd.read_csv(OPENSNP_API.format(user_id=user), comment='#', sep='\\t', header=None)\n"
     ]
    },
    {
     "name": "stdout",
     "output_type": "stream",
     "text": [
      "             0  1       2   3\n",
      "0  rs548049170  1   69869  TT\n",
      "1    rs9283150  1  565508  AA\n",
      "2  rs116587930  1  727841  GG\n",
      "3    rs3131972  1  752721  GG\n",
      "4   rs12184325  1  754105  CC\n",
      "User: 10420.23andme.8678\n"
     ]
    },
    {
     "name": "stderr",
     "output_type": "stream",
     "text": [
      "/var/folders/px/dh9c3vv16s1fhpfkq3b79ws80000gn/T/ipykernel_70702/2052517618.py:5: DtypeWarning: Columns (1) have mixed types. Specify dtype option on import or set low_memory=False.\n",
      "  table = pd.read_csv(OPENSNP_API.format(user_id=user), comment='#', sep='\\t', header=None)\n"
     ]
    },
    {
     "name": "stdout",
     "output_type": "stream",
     "text": [
      "             0  1       2   3\n",
      "0  rs548049170  1   69869  TT\n",
      "1    rs9283150  1  565508  AA\n",
      "2  rs116587930  1  727841  GG\n",
      "3    rs3131972  1  752721  GG\n",
      "4   rs12184325  1  754105  CC\n",
      "User: 6192.23andme.4696\n"
     ]
    },
    {
     "name": "stderr",
     "output_type": "stream",
     "text": [
      "/var/folders/px/dh9c3vv16s1fhpfkq3b79ws80000gn/T/ipykernel_70702/2052517618.py:5: DtypeWarning: Columns (1) have mixed types. Specify dtype option on import or set low_memory=False.\n",
      "  table = pd.read_csv(OPENSNP_API.format(user_id=user), comment='#', sep='\\t', header=None)\n"
     ]
    },
    {
     "name": "stdout",
     "output_type": "stream",
     "text": [
      "            0  1       2   3\n",
      "0   rs4477212  1   82154  AA\n",
      "1   rs3094315  1  752566  AG\n",
      "2   rs3131972  1  752721  AG\n",
      "3  rs12124819  1  776546  AA\n",
      "4  rs11240777  1  798959  GG\n",
      "User: 9974.ancestry.8238\n"
     ]
    },
    {
     "name": "stderr",
     "output_type": "stream",
     "text": [
      "/var/folders/px/dh9c3vv16s1fhpfkq3b79ws80000gn/T/ipykernel_70702/2052517618.py:5: DtypeWarning: Columns (1,2) have mixed types. Specify dtype option on import or set low_memory=False.\n",
      "  table = pd.read_csv(OPENSNP_API.format(user_id=user), comment='#', sep='\\t', header=None)\n"
     ]
    },
    {
     "name": "stdout",
     "output_type": "stream",
     "text": [
      "             0           1         2        3        4\n",
      "0         rsid  chromosome  position  allele1  allele2\n",
      "1    rs3131972           1    752721        G        G\n",
      "2  rs114525117           1    759036        G        G\n",
      "3    rs4040617           1    779322        A        A\n",
      "4  rs141175086           1    780397        C        C\n",
      "User: 9869.23andme.8128\n"
     ]
    },
    {
     "name": "stderr",
     "output_type": "stream",
     "text": [
      "/var/folders/px/dh9c3vv16s1fhpfkq3b79ws80000gn/T/ipykernel_70702/2052517618.py:5: DtypeWarning: Columns (1) have mixed types. Specify dtype option on import or set low_memory=False.\n",
      "  table = pd.read_csv(OPENSNP_API.format(user_id=user), comment='#', sep='\\t', header=None)\n"
     ]
    },
    {
     "name": "stdout",
     "output_type": "stream",
     "text": [
      "             0  1       2   3\n",
      "0  rs548049170  1   69869  TT\n",
      "1   rs13328684  1   74792  --\n",
      "2    rs9283150  1  565508  AA\n",
      "3      i713426  1  726912  AA\n",
      "4  rs116587930  1  727841  GG\n",
      "User: 8977.23andme.7322\n"
     ]
    },
    {
     "name": "stderr",
     "output_type": "stream",
     "text": [
      "/var/folders/px/dh9c3vv16s1fhpfkq3b79ws80000gn/T/ipykernel_70702/2052517618.py:5: DtypeWarning: Columns (1) have mixed types. Specify dtype option on import or set low_memory=False.\n",
      "  table = pd.read_csv(OPENSNP_API.format(user_id=user), comment='#', sep='\\t', header=None)\n"
     ]
    },
    {
     "name": "stdout",
     "output_type": "stream",
     "text": [
      "             0  1       2   3\n",
      "0   rs12564807  1  734462  AA\n",
      "1    rs3131972  1  752721  AG\n",
      "2  rs148828841  1  760998  AC\n",
      "3   rs12124819  1  776546  AA\n",
      "4  rs115093905  1  787173  GG\n",
      "User: 1.23andme.9\n"
     ]
    },
    {
     "name": "stderr",
     "output_type": "stream",
     "text": [
      "/var/folders/px/dh9c3vv16s1fhpfkq3b79ws80000gn/T/ipykernel_70702/2052517618.py:5: DtypeWarning: Columns (1) have mixed types. Specify dtype option on import or set low_memory=False.\n",
      "  table = pd.read_csv(OPENSNP_API.format(user_id=user), comment='#', sep='\\t', header=None)\n"
     ]
    },
    {
     "name": "stdout",
     "output_type": "stream",
     "text": [
      "            0  1       2   3\n",
      "0   rs4477212  1   72017  AA\n",
      "1   rs3094315  1  742429  AA\n",
      "2   rs3131972  1  742584  GG\n",
      "3  rs12124819  1  766409  AG\n",
      "4  rs11240777  1  788822  AG\n",
      "User: 8655.ancestry.7006\n"
     ]
    },
    {
     "name": "stderr",
     "output_type": "stream",
     "text": [
      "/var/folders/px/dh9c3vv16s1fhpfkq3b79ws80000gn/T/ipykernel_70702/2052517618.py:5: DtypeWarning: Columns (1,2) have mixed types. Specify dtype option on import or set low_memory=False.\n",
      "  table = pd.read_csv(OPENSNP_API.format(user_id=user), comment='#', sep='\\t', header=None)\n"
     ]
    },
    {
     "name": "stdout",
     "output_type": "stream",
     "text": [
      "             0           1         2        3        4\n",
      "0         rsid  chromosome  position  allele1  allele2\n",
      "1    rs3131972           1    752721        G        G\n",
      "2  rs114525117           1    759036        G        G\n",
      "3    rs4040617           1    779322        A        A\n",
      "4  rs141175086           1    780397        C        C\n",
      "User: 8546.ancestry.6906\n"
     ]
    },
    {
     "name": "stderr",
     "output_type": "stream",
     "text": [
      "/var/folders/px/dh9c3vv16s1fhpfkq3b79ws80000gn/T/ipykernel_70702/2052517618.py:5: DtypeWarning: Columns (1,2) have mixed types. Specify dtype option on import or set low_memory=False.\n",
      "  table = pd.read_csv(OPENSNP_API.format(user_id=user), comment='#', sep='\\t', header=None)\n"
     ]
    },
    {
     "name": "stdout",
     "output_type": "stream",
     "text": [
      "             0           1         2        3        4\n",
      "0         rsid  chromosome  position  allele1  allele2\n",
      "1  rs369202065           1    569388        G        G\n",
      "2  rs199476136           1    569400        T        T\n",
      "3  rs190214723           1    693625        T        T\n",
      "4    rs3131972           1    752721        A        G\n",
      "User: 8476.23andme.6841\n"
     ]
    },
    {
     "name": "stderr",
     "output_type": "stream",
     "text": [
      "/var/folders/px/dh9c3vv16s1fhpfkq3b79ws80000gn/T/ipykernel_70702/2052517618.py:5: DtypeWarning: Columns (1) have mixed types. Specify dtype option on import or set low_memory=False.\n",
      "  table = pd.read_csv(OPENSNP_API.format(user_id=user), comment='#', sep='\\t', header=None)\n"
     ]
    },
    {
     "name": "stdout",
     "output_type": "stream",
     "text": [
      "             0  1       2   3\n",
      "0   rs12564807  1  734462  AA\n",
      "1    rs3131972  1  752721  GG\n",
      "2  rs148828841  1  760998  CC\n",
      "3   rs12124819  1  776546  AA\n",
      "4  rs115093905  1  787173  --\n",
      "User: 8466.ancestry.6829\n"
     ]
    },
    {
     "name": "stderr",
     "output_type": "stream",
     "text": [
      "/var/folders/px/dh9c3vv16s1fhpfkq3b79ws80000gn/T/ipykernel_70702/2052517618.py:5: DtypeWarning: Columns (1,2) have mixed types. Specify dtype option on import or set low_memory=False.\n",
      "  table = pd.read_csv(OPENSNP_API.format(user_id=user), comment='#', sep='\\t', header=None)\n"
     ]
    },
    {
     "name": "stdout",
     "output_type": "stream",
     "text": [
      "             0           1         2        3        4\n",
      "0         rsid  chromosome  position  allele1  allele2\n",
      "1  rs369202065           1    569388        G        G\n",
      "2  rs199476136           1    569400        T        T\n",
      "3    rs3131972           1    752721        G        G\n",
      "4  rs114525117           1    759036        G        G\n",
      "User: 7018.23andme.5429\n",
      "             0  1       2   3\n",
      "0  rs548049170  1   69869  TT\n",
      "1   rs13328684  1   74792  --\n",
      "2    rs9283150  1  565508  AA\n",
      "3      i713426  1  726912  --\n",
      "4  rs116587930  1  727841  GG\n"
     ]
    },
    {
     "name": "stderr",
     "output_type": "stream",
     "text": [
      "/var/folders/px/dh9c3vv16s1fhpfkq3b79ws80000gn/T/ipykernel_70702/2052517618.py:5: DtypeWarning: Columns (1) have mixed types. Specify dtype option on import or set low_memory=False.\n",
      "  table = pd.read_csv(OPENSNP_API.format(user_id=user), comment='#', sep='\\t', header=None)\n"
     ]
    }
   ],
   "source": [
    "data = {}\n",
    "for i in users.iterrows():\n",
    "    user = i[1]['file_link']\n",
    "    print('User: {user}'.format(user=user))\n",
    "    table = pd.read_csv(OPENSNP_API.format(user_id=user), comment='#', sep='\\t', header=None)\n",
    "    print(table.head())\n",
    "    data[user] = table"
   ]
  },
  {
   "cell_type": "code",
   "execution_count": 35,
   "metadata": {},
   "outputs": [
    {
     "name": "stdout",
     "output_type": "stream",
     "text": [
      "None\n"
     ]
    }
   ],
   "source": [
    "print(hola.apparent_encoding)"
   ]
  },
  {
   "cell_type": "code",
   "execution_count": 39,
   "metadata": {},
   "outputs": [
    {
     "data": {
      "text/html": [
       "<div>\n",
       "<style scoped>\n",
       "    .dataframe tbody tr th:only-of-type {\n",
       "        vertical-align: middle;\n",
       "    }\n",
       "\n",
       "    .dataframe tbody tr th {\n",
       "        vertical-align: top;\n",
       "    }\n",
       "\n",
       "    .dataframe thead th {\n",
       "        text-align: right;\n",
       "    }\n",
       "</style>\n",
       "<table border=\"1\" class=\"dataframe\">\n",
       "  <thead>\n",
       "    <tr style=\"text-align: right;\">\n",
       "      <th></th>\n",
       "      <th>0</th>\n",
       "      <th>1</th>\n",
       "      <th>2</th>\n",
       "      <th>3</th>\n",
       "      <th>4</th>\n",
       "    </tr>\n",
       "  </thead>\n",
       "  <tbody>\n",
       "  </tbody>\n",
       "</table>\n",
       "</div>"
      ],
      "text/plain": [
       "Empty DataFrame\n",
       "Columns: [0, 1, 2, 3, 4]\n",
       "Index: []"
      ]
     },
     "execution_count": 39,
     "metadata": {},
     "output_type": "execute_result"
    }
   ],
   "source": [
    "\n",
    "dframe_ancestry = data['10787.ancestry.8931']\n",
    "dframe_ancestry[dframe_ancestry.isna().any(axis=1)]\n"
   ]
  },
  {
   "cell_type": "code",
   "execution_count": 22,
   "metadata": {},
   "outputs": [
    {
     "name": "stdout",
     "output_type": "stream",
     "text": [
      "['__name__', '__doc__', '__package__', '__loader__', '__spec__', '__file__', '__path__']\n"
     ]
    }
   ],
   "source": [
    "print(magic.__dir__())"
   ]
  }
 ],
 "metadata": {
  "kernelspec": {
   "display_name": "Python 3.9.12 ('base')",
   "language": "python",
   "name": "python3"
  },
  "language_info": {
   "codemirror_mode": {
    "name": "ipython",
    "version": 3
   },
   "file_extension": ".py",
   "mimetype": "text/x-python",
   "name": "python",
   "nbconvert_exporter": "python",
   "pygments_lexer": "ipython3",
   "version": "3.9.12"
  },
  "orig_nbformat": 4,
  "vscode": {
   "interpreter": {
    "hash": "40d3a090f54c6569ab1632332b64b2c03c39dcf918b08424e98f38b5ae0af88f"
   }
  }
 },
 "nbformat": 4,
 "nbformat_minor": 2
}
